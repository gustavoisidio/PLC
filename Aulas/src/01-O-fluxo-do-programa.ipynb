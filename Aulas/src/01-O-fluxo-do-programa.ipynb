{
 "cells": [
  {
   "cell_type": "markdown",
   "metadata": {
    "slideshow": {
     "slide_type": "slide"
    }
   },
   "source": [
    "## O fluxo do programa\n",
    "\n",
    "Em linguagens de paradigma procedural − também chamadas de imperativas, controlamos o fluxo do programa através de condicionais, loops e variáveis de controle que acabam por definir quando e enquanto um bloco de código será executado. Em Haskell, não usamos loops nem variáveis de controle, mas casamento de padrões, 'guards' e muita recursão.\n"
   ]
  },
  {
   "cell_type": "code",
   "execution_count": null,
   "metadata": {},
   "outputs": [],
   "source": [
    "void maiorQue10 ( int x ) {\n",
    "    if ( x > 10 ) {\n",
    "        printf (\" Eh maior mesmo\\n\" );\n",
    "    } else {\n",
    "        printf ( \"Nao eh maior nada\\n\" );\n",
    "    }\n",
    "}"
   ]
  },
  {
   "cell_type": "code",
   "execution_count": null,
   "metadata": {},
   "outputs": [],
   "source": [
    "void printXVezes ( int x, char y[] ) { \n",
    "    int i;\n",
    "    for ( i=0; i<x; i++ ){\n",
    "        printf (\"%s\\n\", y);\n",
    "    }\n",
    "}\n"
   ]
  },
  {
   "cell_type": "markdown",
   "metadata": {
    "slideshow": {
     "slide_type": "slide"
    }
   },
   "source": [
    "Essas funções, caso fossem escritas em Haskell, provavelmente seriam algo assim:\n",
    "\n"
   ]
  },
  {
   "cell_type": "code",
   "execution_count": null,
   "metadata": {},
   "outputs": [],
   "source": [
    "maiorQue10 :: Int -> IO()\n",
    "maiorQue10 x \n",
    "    | x > 10 = putStr \"Eh maior mesmo\\n\"\n",
    "    | otherwise = putStr \"Nao eh maior nada\\n\"\n",
    "\n",
    "printXVezes :: Int -> String -> IO()\n",
    "printXVezes x y = putStr (printXVezes2 x y) \n",
    "    \n",
    "printXVezes2 :: Int -> String -> String\n",
    "printXVezes2 x y\n",
    "    | x == 0 = \"\"\n",
    "    | otherwise = ( y ++ \"\\n\" ) ++ ( printXVezes2 ( x - 1 ) y )  \n",
    "\n"
   ]
  },
  {
   "cell_type": "markdown",
   "metadata": {
    "slideshow": {
     "slide_type": "slide"
    }
   },
   "source": [
    "A função maiorQue10 traz os mesmos resultados nas duas implementações. Recebe um inteiro e imprime uma string no console informando se esse inteiro é ou não maior que 10. Em Haskell, os 'if' e 'else if' dão lugar a '|' e o else é representado pelo '| otherwise'. \n",
    "\n"
   ]
  },
  {
   "cell_type": "markdown",
   "metadata": {
    "slideshow": {
     "slide_type": "slide"
    }
   },
   "source": [
    "A função printXVezes recebe um inteiro x e uma string y e imprime y por x vezes. Em C, isso é feito com um simples loop. Em haskell, precisamos criar uma recursão onde a condição de parada é \"x é igual a 0?\" e, a cada vez que a função é chamada, o x vai como x-1. O resultado é que x strings são concatenadas uma a outra até que a condição de parada seja atingida.\n",
    "\n",
    "Então, na prática, quando precisamos executar algo várias vezes ( ideia de loop ), utilizamos a boa e velha recursão, lembrando que essa recursão precisa de uma condição de parada. Para essa condição de parada, as vezes utilizamos casamento de padrões. A função printXVezes2, inclusive, poderia ser reescrita da seguinte forma"
   ]
  },
  {
   "cell_type": "code",
   "execution_count": null,
   "metadata": {},
   "outputs": [],
   "source": [
    "printXVezes2 :: Int -> String -> String\n",
    "printXVezes2 0 _ = \"\" \n",
    "printXVezes2 x y = ( y ++ \"\\n\" ) ++ ( printXVezes2 ( x - 1 ) y )    \n",
    "\n",
    "\n"
   ]
  },
  {
   "cell_type": "markdown",
   "metadata": {},
   "source": [
    "Se o inteiro em questão for 0, independente da string, será retornado \"\" pondo um fim na recursão. Na segunda linha, diferente da primeira, ambos string e inteiro precisam ser referenciados. Portanto, precisamos nomeá-los. Nesse caso, de \"x\" e \"y\".\n",
    "\n",
    "\n",
    "\n"
   ]
  }
 ],
 "metadata": {
  "celltoolbar": "Slideshow",
  "kernelspec": {
   "display_name": "Python 3.6 (tensorflow)",
   "language": "python",
   "name": "tensorflow"
  },
  "language_info": {
   "codemirror_mode": {
    "name": "ipython",
    "version": 3
   },
   "file_extension": ".py",
   "mimetype": "text/x-python",
   "name": "python",
   "nbconvert_exporter": "python",
   "pygments_lexer": "ipython3",
   "version": "3.6.8"
  }
 },
 "nbformat": 4,
 "nbformat_minor": 2
}
